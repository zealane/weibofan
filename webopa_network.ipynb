{
 "cells": [
  {
   "cell_type": "code",
   "execution_count": 9,
   "metadata": {},
   "outputs": [
    {
     "ename": "UnicodeDecodeError",
     "evalue": "'utf-8' codec can't decode byte 0xd0 in position 28: invalid continuation byte",
     "output_type": "error",
     "traceback": [
      "\u001b[1;31m---------------------------------------------------------------------------\u001b[0m",
      "\u001b[1;31mUnicodeDecodeError\u001b[0m                        Traceback (most recent call last)",
      "\u001b[1;32m<ipython-input-9-a5562faab288>\u001b[0m in \u001b[0;36m<module>\u001b[1;34m()\u001b[0m\n\u001b[0;32m     72\u001b[0m \u001b[1;33m\u001b[0m\u001b[0m\n\u001b[0;32m     73\u001b[0m \u001b[1;32mif\u001b[0m \u001b[0m__name__\u001b[0m \u001b[1;33m==\u001b[0m \u001b[1;34m'__main__'\u001b[0m\u001b[1;33m:\u001b[0m\u001b[1;33m\u001b[0m\u001b[0m\n\u001b[1;32m---> 74\u001b[1;33m     \u001b[0mget_follow_fan\u001b[0m\u001b[1;33m(\u001b[0m\u001b[0moid\u001b[0m\u001b[1;33m)\u001b[0m\u001b[1;33m\u001b[0m\u001b[0m\n\u001b[0m",
      "\u001b[1;32m<ipython-input-9-a5562faab288>\u001b[0m in \u001b[0;36mget_follow_fan\u001b[1;34m(o_id)\u001b[0m\n\u001b[0;32m     31\u001b[0m     \u001b[1;31m# response = requests.get('https://weibo.com/u/%s' % o_id, headers=headers, params=params)\u001b[0m\u001b[1;33m\u001b[0m\u001b[1;33m\u001b[0m\u001b[0m\n\u001b[0;32m     32\u001b[0m     \u001b[0mgetfollow\u001b[0m \u001b[1;33m=\u001b[0m \u001b[0murllib\u001b[0m\u001b[1;33m.\u001b[0m\u001b[0mrequest\u001b[0m\u001b[1;33m.\u001b[0m\u001b[0mRequest\u001b[0m\u001b[1;33m(\u001b[0m\u001b[0murl\u001b[0m\u001b[1;33m=\u001b[0m\u001b[1;34m'https://weibo.com/ajax/friendships/friends?relate=fans&page=1&uid=%s&type=fans&newFollowerCount=0'\u001b[0m \u001b[1;33m%\u001b[0m \u001b[0mo_id\u001b[0m\u001b[1;33m,\u001b[0m \u001b[0mheaders\u001b[0m\u001b[1;33m=\u001b[0m\u001b[0mheaders\u001b[0m\u001b[1;33m)\u001b[0m\u001b[1;33m\u001b[0m\u001b[0m\n\u001b[1;32m---> 33\u001b[1;33m     \u001b[0mr\u001b[0m \u001b[1;33m=\u001b[0m \u001b[0murllib\u001b[0m\u001b[1;33m.\u001b[0m\u001b[0mrequest\u001b[0m\u001b[1;33m.\u001b[0m\u001b[0murlopen\u001b[0m\u001b[1;33m(\u001b[0m\u001b[0murl\u001b[0m\u001b[1;33m=\u001b[0m\u001b[0mgetfollow\u001b[0m\u001b[1;33m,\u001b[0m \u001b[0mtimeout\u001b[0m\u001b[1;33m=\u001b[0m\u001b[1;36m10\u001b[0m\u001b[1;33m)\u001b[0m\u001b[1;33m.\u001b[0m\u001b[0mread\u001b[0m\u001b[1;33m(\u001b[0m\u001b[1;33m)\u001b[0m\u001b[1;33m.\u001b[0m\u001b[0mdecode\u001b[0m\u001b[1;33m(\u001b[0m\u001b[1;34m'utf-8'\u001b[0m\u001b[1;33m)\u001b[0m\u001b[1;33m\u001b[0m\u001b[0m\n\u001b[0m\u001b[0;32m     34\u001b[0m     \u001b[0mfuns_all\u001b[0m \u001b[1;33m=\u001b[0m \u001b[0mjson\u001b[0m\u001b[1;33m.\u001b[0m\u001b[0mloads\u001b[0m\u001b[1;33m(\u001b[0m\u001b[0mr\u001b[0m\u001b[1;33m)\u001b[0m\u001b[1;33m\u001b[0m\u001b[0m\n\u001b[0;32m     35\u001b[0m     \u001b[0mdisplay_total_number\u001b[0m \u001b[1;33m=\u001b[0m \u001b[0mfuns_all\u001b[0m\u001b[1;33m[\u001b[0m\u001b[1;34m\"display_total_number\"\u001b[0m\u001b[1;33m]\u001b[0m\u001b[1;33m\u001b[0m\u001b[0m\n",
      "\u001b[1;31mUnicodeDecodeError\u001b[0m: 'utf-8' codec can't decode byte 0xd0 in position 28: invalid continuation byte"
     ]
    }
   ],
   "source": [
    "#!/usr/bin/python\n",
    "#-*-coding:utf-8-*-\n",
    "import requests\n",
    "import re\n",
    "from urllib import request\n",
    "import urllib\n",
    "import json\n",
    "import pandas as pd\n",
    "import csv\n",
    " \n",
    "oid=\"1690948053\"\n",
    " \n",
    "def get_follow_fan(o_id):\n",
    "    headers = {\n",
    "        'authority': 'weibo.com',\n",
    "        'cache-control': 'max-age=0',\n",
    "        'sec-ch-ua': '\"Google Chrome\";v=\"89\", \"Chromium\";v=\"89\", \";Not A Brand\";v=\"99\"',\n",
    "        'sec-ch-ua-mobile': '?0',\n",
    "        'upgrade-insecure-requests': '1',\n",
    "        'user-agent': 'Mozilla/5.0 (Windows NT 10.0; Win64; x64) AppleWebKit/537.36 (KHTML, like Gecko) Chrome/89.0.4389.114 Safari/537.36',\n",
    "        'accept': 'text/html,application/xhtml+xml,application/xml;q=0.9,image/avif,image/webp,image/apng,*/*;q=0.8,application/signed-exchange;v=b3;q=0.9',\n",
    "        'sec-fetch-site': 'same-origin',\n",
    "        'sec-fetch-mode': 'navigate',\n",
    "        'sec-fetch-user': '?1',\n",
    "        'sec-fetch-dest': 'document',\n",
    "        'referer': 'https://weibo.com/u/page/follow/2671109275?relate=fans',\n",
    "        'accept-language': 'zh-CN,zh;q=0.9',\n",
    "        'cookie': 'SINAGLOBAL=5977815379642.795.1651287265439; SUBP=0033WrSXqPxfM725Ws9jqgMF55529P9D9WW9zmfQeeB7.IjRxNTEhjvk5JpX5KMhUgL.Fo2c1K54Shn7SKe2dJLoIXnLxK.LB-BL1KBLxK.L1heLB.BLxKML1-2L1hBLxKML1K5L1hqLxKqL1heLBoeLxKnLBoMLBo-LxKnLBK2L12eLxKnL1h5L1h-t; UOR=,,login.sina.com.cn; ALF=1699783230; SSOLoginState=1668247232; SCF=AsXDd0SVytz6fL5Wl_sutsuvdKaBRoEquT-fnWnrd36lPJzKgS-j3BeKnK7el9g2j8IrcultBNhoIoSTuEuvWEc.; SUB=_2A25Oax6RDeRhGedI4lIY9CbMzj-IHXVtAXdZrDV8PUNbmtANLWLAkW9NVoVaMR66G-H7vSI8AdNxQ5OWdHF2Kw0w; XSRF-TOKEN=FDdBKyyvH3Qy5lKC5lUH4ZsC; WBPSESS=z1eC9ZfikUNj2EOMh6cP_lNR9kWcqtBW1NnvUwuiND3V28s0cyVkI2VXctAjmXd0-4hKaK_lRcwDYbfv3MgLZMEGH-WKoQI_75Srd8euTrgZPYuz9VacE4dQrdq2st0qNXvFK5PAj9szwUMU-yYU1A==; _s_tentry=weibo.com; Apache=6121028566529.878.1668253155808; ULV=1668253155869:3:1:1:6121028566529.878.1668253155808:1652403777027',\n",
    "    }\n",
    "    # o_id = \"7006403277\"\n",
    "    # response = requests.get('https://weibo.com/u/%s' % o_id, headers=headers, params=params)\n",
    "    getfollow = urllib.request.Request(url='https://weibo.com/ajax/friendships/friends?relate=fans&page=1&uid=%s&type=fans&newFollowerCount=0' % o_id, headers=headers)\n",
    "    r = urllib.request.urlopen(url=getfollow, timeout=10).read().decode('utf-8')\n",
    "    funs_all = json.loads(r)\n",
    "    display_total_number = funs_all[\"display_total_number\"]\n",
    "    print(display_total_number)\n",
    "    page_nums = display_total_number//20\n",
    "    print(page_nums) \n",
    "    if(page_nums>10):\n",
    "        page_nums=10\n",
    "    header=['id','fan']\n",
    "    row_str=[]\n",
    "\n",
    "    for i in range(1,page_nums):\n",
    "        #获取粉丝\n",
    "        getfollow = urllib.request.Request(url='https://weibo.com/ajax/friendships/friends?relate=fans&page=%s&uid=%s&type=fans&newFollowerCount=0' % (i,o_id), headers=headers)\n",
    "        r = urllib.request.urlopen(url=getfollow, timeout=10).read().decode('utf-8')\n",
    "        funs_all = json.loads(r)\n",
    "        #print(funs_all)\n",
    "        fan_data = funs_all.get(\"users\")\n",
    "      #  print(\"fan_data:\",fan_data)\n",
    "        j=0\n",
    "        for fan in fan_data:\n",
    "          #  print(\"粉丝：\")\n",
    "            #print(fan)\n",
    "            #str = fan[\"idstr\"] + \" \" + fan[\"name\"]\n",
    "            str = [oid,fan[\"idstr\"],fan[\"name\"]]\n",
    "         #   print(str)\n",
    "            row_str.append(str)\n",
    "            print(row_str[j])\n",
    "            j=j+1\n",
    "\n",
    "    with open(\"data/fans.csv\",\"w\",newline='') as csvfile:\n",
    "         #   print(\"-----------------\")\n",
    "        writer=csv.writer(csvfile)\n",
    "        writer.writerows(row_str)\n",
    "        #    f_fan.write(row_str)\n",
    "        #    f_fan.write(\"\\n\")\n",
    "    csvfile.close()\n",
    "    ########################  \n",
    "    \n",
    "\n",
    "if __name__ == '__main__':\n",
    "    get_follow_fan(oid)    \n"
   ]
  },
  {
   "cell_type": "code",
   "execution_count": null,
   "metadata": {},
   "outputs": [],
   "source": []
  }
 ],
 "metadata": {
  "kernelspec": {
   "display_name": "Python 3",
   "language": "python",
   "name": "python3"
  },
  "language_info": {
   "codemirror_mode": {
    "name": "ipython",
    "version": 3
   },
   "file_extension": ".py",
   "mimetype": "text/x-python",
   "name": "python",
   "nbconvert_exporter": "python",
   "pygments_lexer": "ipython3",
   "version": "3.7.0"
  }
 },
 "nbformat": 4,
 "nbformat_minor": 2
}
